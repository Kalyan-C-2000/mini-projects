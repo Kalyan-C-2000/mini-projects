{
 "cells": [
  {
   "cell_type": "code",
   "execution_count": 1,
   "id": "44fdc542-2aaf-429e-b7d5-d6d505070405",
   "metadata": {},
   "outputs": [
    {
     "name": "stdout",
     "output_type": "stream",
     "text": [
      "Welcome to Tic Tac Toe\n",
      "0 | 1 | 2 \n",
      "--|---|---\n",
      "3 | 4 | 5 \n",
      "--|---|---\n",
      "6 | 7 | 8 \n",
      "X's Chance\n"
     ]
    },
    {
     "name": "stdin",
     "output_type": "stream",
     "text": [
      "Please enter a value:  8\n"
     ]
    },
    {
     "name": "stdout",
     "output_type": "stream",
     "text": [
      "0 | 1 | 2 \n",
      "--|---|---\n",
      "3 | 4 | 5 \n",
      "--|---|---\n",
      "6 | 7 | X \n",
      "O's Chance\n"
     ]
    },
    {
     "name": "stdin",
     "output_type": "stream",
     "text": [
      "Please enter a value:  9\n"
     ]
    },
    {
     "ename": "IndexError",
     "evalue": "list assignment index out of range",
     "output_type": "error",
     "traceback": [
      "\u001b[1;31m---------------------------------------------------------------------------\u001b[0m",
      "\u001b[1;31mIndexError\u001b[0m                                Traceback (most recent call last)",
      "Cell \u001b[1;32mIn[1], line 45\u001b[0m\n\u001b[0;32m     43\u001b[0m     \u001b[38;5;28mprint\u001b[39m(\u001b[38;5;124m\"\u001b[39m\u001b[38;5;124mO\u001b[39m\u001b[38;5;124m'\u001b[39m\u001b[38;5;124ms Chance\u001b[39m\u001b[38;5;124m\"\u001b[39m)\n\u001b[0;32m     44\u001b[0m     value \u001b[38;5;241m=\u001b[39m \u001b[38;5;28mint\u001b[39m(\u001b[38;5;28minput\u001b[39m(\u001b[38;5;124m\"\u001b[39m\u001b[38;5;124mPlease enter a value: \u001b[39m\u001b[38;5;124m\"\u001b[39m))\n\u001b[1;32m---> 45\u001b[0m     zState[value] \u001b[38;5;241m=\u001b[39m \u001b[38;5;241m1\u001b[39m\n\u001b[0;32m     46\u001b[0m cwin \u001b[38;5;241m=\u001b[39m checkWin(xState, zState)\n\u001b[0;32m     47\u001b[0m \u001b[38;5;28;01mif\u001b[39;00m(cwin \u001b[38;5;241m!=\u001b[39m \u001b[38;5;241m-\u001b[39m\u001b[38;5;241m1\u001b[39m):\n",
      "\u001b[1;31mIndexError\u001b[0m: list assignment index out of range"
     ]
    }
   ],
   "source": [
    "def sum(a, b, c ):\n",
    "    return a + b + c\n",
    "\n",
    "def printBoard(xState, zState):\n",
    "    zero = 'X' if xState[0] else ('O' if zState[0] else 0)\n",
    "    one = 'X' if xState[1] else ('O' if zState[1] else 1)\n",
    "    two = 'X' if xState[2] else ('O' if zState[2] else 2)\n",
    "    three = 'X' if xState[3] else ('O' if zState[3] else 3)\n",
    "    four = 'X' if xState[4] else ('O' if zState[4] else 4)\n",
    "    five = 'X' if xState[5] else ('O' if zState[5] else 5)\n",
    "    six = 'X' if xState[6] else ('O' if zState[6] else 6)\n",
    "    seven = 'X' if xState[7] else ('O' if zState[7] else 7)\n",
    "    eight = 'X' if xState[8] else ('O' if zState[8] else 8)\n",
    "    print(f\"{zero} | {one} | {two} \")\n",
    "    print(f\"--|---|---\")\n",
    "    print(f\"{three} | {four} | {five} \")\n",
    "    print(f\"--|---|---\")\n",
    "    print(f\"{six} | {seven} | {eight} \") \n",
    "\n",
    "def checkWin(xState, zState):\n",
    "    wins = [[0, 1, 2], [3, 4, 5], [6, 7, 8], [0, 3, 6], [1, 4, 7], [2, 5, 8], [0, 4, 8], [2, 4, 6]]\n",
    "    for win in wins:\n",
    "        if(sum(xState[win[0]], xState[win[1]], xState[win[2]]) == 3):\n",
    "            print(\"X Won the match\")\n",
    "            return 1\n",
    "        if(sum(zState[win[0]], zState[win[1]], zState[win[2]]) == 3):\n",
    "            print(\"O Won the match\")\n",
    "            return 0\n",
    "    return -1\n",
    "    \n",
    "if __name__ == \"__main__\":\n",
    "    xState = [0, 0, 0, 0, 0, 0, 0, 0, 0]\n",
    "    zState = [0, 0, 0, 0, 0, 0, 0, 0, 0]\n",
    "    turn = 1 # 1 for X and 0 for O\n",
    "    print(\"Welcome to Tic Tac Toe\")\n",
    "    while(True):\n",
    "        printBoard(xState, zState)\n",
    "        if(turn == 1):\n",
    "            print(\"X's Chance\")\n",
    "            value = int(input(\"Please enter a value: \"))\n",
    "            xState[value] = 1\n",
    "        else:\n",
    "            print(\"O's Chance\")\n",
    "            value = int(input(\"Please enter a value: \"))\n",
    "            zState[value] = 1\n",
    "        cwin = checkWin(xState, zState)\n",
    "        if(cwin != -1):\n",
    "            print(\"Match over\")\n",
    "            break\n",
    "        \n",
    "        turn = 1 - turn"
   ]
  },
  {
   "cell_type": "code",
   "execution_count": null,
   "id": "53435eb5-18a9-4417-8b57-a16cfc7df8f4",
   "metadata": {},
   "outputs": [],
   "source": []
  }
 ],
 "metadata": {
  "kernelspec": {
   "display_name": "Python 3 (ipykernel)",
   "language": "python",
   "name": "python3"
  },
  "language_info": {
   "codemirror_mode": {
    "name": "ipython",
    "version": 3
   },
   "file_extension": ".py",
   "mimetype": "text/x-python",
   "name": "python",
   "nbconvert_exporter": "python",
   "pygments_lexer": "ipython3",
   "version": "3.11.7"
  }
 },
 "nbformat": 4,
 "nbformat_minor": 5
}
